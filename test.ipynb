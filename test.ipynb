{
 "cells": [
  {
   "metadata": {
    "ExecuteTime": {
     "end_time": "2025-03-08T14:41:43.766629Z",
     "start_time": "2025-03-08T14:41:43.093735Z"
    }
   },
   "cell_type": "code",
   "source": [
    "import pandas as pd\n",
    "\n",
    "# For decision tree explanation, we use scikit-learn\n",
    "from sklearn.tree import DecisionTreeClassifier, export_text\n",
    "\n",
    "from explainable.integrated_gradients import integrated_gradients, autoencoder_model, get_top_attributions\n",
    "from explainable.lime import get_explainer\n",
    "from explainable.shappy import get_shap_explainer_non_cat\n",
    "from project.backend.preprocessing.preprocessing import process_data, get_labels\n",
    "\n",
    "data_loaded = pd.read_csv('data/datathon_data.csv')\n",
    "data_transformed = process_data(data_loaded, return_label=False)\n"
   ],
   "id": "d29d074139efb795",
   "outputs": [],
   "execution_count": 4
  },
  {
   "metadata": {
    "ExecuteTime": {
     "end_time": "2025-03-08T14:41:49.513944Z",
     "start_time": "2025-03-08T14:41:43.796771Z"
    }
   },
   "cell_type": "code",
   "source": [
    "from project.backend.main import integrated_gradients_endpoint, lime_explanation_endpoint, shap_explanation_endpoint\n",
    "\n",
    "data1 = {\"BELNR\": \"170320\", \"WAERS\": \"C1\", \"BUKRS\": \"C11\", \"KTOSL\": \"C1\", \"PRCTR\": \"C30\", \"BSCHL\": \"A1\",\n",
    "             \"HKONT\": \"B1\", \"DMBTR\": \"910645.965114\", \"WRBTR\": \"54452.8097799\", 'label': 'anormal'}\n",
    "data2 = {\"BELNR\": \"370090\", \"WAERS\": \"E00\", \"BUKRS\": \"W67\", \"KTOSL\": \"W79\", \"PRCTR\": \"T97\", \"BSCHL\": \"N82\",\n",
    "         \"HKONT\": \"J10\", \"DMBTR\": \"92445516.8528\", \"WRBTR\": \"59585037.0177\", 'label': 'anormal'}\n",
    "int_gradient1 = integrated_gradients_endpoint({\"data\": data1})\n",
    "int_gradient2 = integrated_gradients_endpoint({\"data\": data2})\n",
    "lime1 = lime_explanation_endpoint({'data': data1})\n",
    "lime2 = lime_explanation_endpoint({'data': data2})\n",
    "shap1 = shap_explanation_endpoint({'data': data1})\n",
    "shap2 = shap_explanation_endpoint({'data': data2})"
   ],
   "id": "504e35e454bbc159",
   "outputs": [
    {
     "name": "stderr",
     "output_type": "stream",
     "text": [
      "C:\\Users\\flori\\anaconda3\\envs\\torch_test\\Lib\\site-packages\\lime\\discretize.py:110: FutureWarning: Series.__getitem__ treating keys as positions is deprecated. In a future version, integer keys will always be treated as labels (consistent with DataFrame behavior). To access a value by position, use `ser.iloc[pos]`\n",
      "  ret[feature] = int(self.lambdas[feature](ret[feature]))\n",
      "C:\\Users\\flori\\anaconda3\\envs\\torch_test\\Lib\\site-packages\\lime\\discretize.py:110: FutureWarning: Series.__setitem__ treating keys as positions is deprecated. In a future version, integer keys will always be treated as labels (consistent with DataFrame behavior). To set a value by position, use `ser.iloc[pos] = value`\n",
      "  ret[feature] = int(self.lambdas[feature](ret[feature]))\n",
      "C:\\Users\\flori\\anaconda3\\envs\\torch_test\\Lib\\site-packages\\lime\\lime_tabular.py:544: FutureWarning: Series.__getitem__ treating keys as positions is deprecated. In a future version, integer keys will always be treated as labels (consistent with DataFrame behavior). To access a value by position, use `ser.iloc[pos]`\n",
      "  binary_column = (inverse_column == first_row[column]).astype(int)\n"
     ]
    },
    {
     "name": "stdout",
     "output_type": "stream",
     "text": [
      "[LOG 20250308-14:41:45] collected individual reconstruction loss of: 000000/005000 transactions\n"
     ]
    },
    {
     "name": "stderr",
     "output_type": "stream",
     "text": [
      "C:\\Users\\flori\\anaconda3\\envs\\torch_test\\Lib\\site-packages\\lime\\lime_tabular.py:413: FutureWarning: Series.__getitem__ treating keys as positions is deprecated. In a future version, integer keys will always be treated as labels (consistent with DataFrame behavior). To access a value by position, use `ser.iloc[pos]`\n",
      "  name = int(data_row[i])\n",
      "C:\\Users\\flori\\anaconda3\\envs\\torch_test\\Lib\\site-packages\\lime\\discretize.py:110: FutureWarning: Series.__getitem__ treating keys as positions is deprecated. In a future version, integer keys will always be treated as labels (consistent with DataFrame behavior). To access a value by position, use `ser.iloc[pos]`\n",
      "  ret[feature] = int(self.lambdas[feature](ret[feature]))\n",
      "C:\\Users\\flori\\anaconda3\\envs\\torch_test\\Lib\\site-packages\\lime\\discretize.py:110: FutureWarning: Series.__setitem__ treating keys as positions is deprecated. In a future version, integer keys will always be treated as labels (consistent with DataFrame behavior). To set a value by position, use `ser.iloc[pos] = value`\n",
      "  ret[feature] = int(self.lambdas[feature](ret[feature]))\n",
      "C:\\Users\\flori\\anaconda3\\envs\\torch_test\\Lib\\site-packages\\lime\\lime_tabular.py:427: FutureWarning: Series.__getitem__ treating keys as positions is deprecated. In a future version, integer keys will always be treated as labels (consistent with DataFrame behavior). To access a value by position, use `ser.iloc[pos]`\n",
      "  discretized_instance[f])]\n",
      "C:\\Users\\flori\\anaconda3\\envs\\torch_test\\Lib\\site-packages\\lime\\discretize.py:110: FutureWarning: Series.__getitem__ treating keys as positions is deprecated. In a future version, integer keys will always be treated as labels (consistent with DataFrame behavior). To access a value by position, use `ser.iloc[pos]`\n",
      "  ret[feature] = int(self.lambdas[feature](ret[feature]))\n",
      "C:\\Users\\flori\\anaconda3\\envs\\torch_test\\Lib\\site-packages\\lime\\discretize.py:110: FutureWarning: Series.__setitem__ treating keys as positions is deprecated. In a future version, integer keys will always be treated as labels (consistent with DataFrame behavior). To set a value by position, use `ser.iloc[pos] = value`\n",
      "  ret[feature] = int(self.lambdas[feature](ret[feature]))\n",
      "C:\\Users\\flori\\anaconda3\\envs\\torch_test\\Lib\\site-packages\\lime\\lime_tabular.py:544: FutureWarning: Series.__getitem__ treating keys as positions is deprecated. In a future version, integer keys will always be treated as labels (consistent with DataFrame behavior). To access a value by position, use `ser.iloc[pos]`\n",
      "  binary_column = (inverse_column == first_row[column]).astype(int)\n"
     ]
    },
    {
     "name": "stdout",
     "output_type": "stream",
     "text": [
      "[LOG 20250308-14:41:47] collected individual reconstruction loss of: 000000/005000 transactions\n"
     ]
    },
    {
     "name": "stderr",
     "output_type": "stream",
     "text": [
      "C:\\Users\\flori\\anaconda3\\envs\\torch_test\\Lib\\site-packages\\lime\\lime_tabular.py:413: FutureWarning: Series.__getitem__ treating keys as positions is deprecated. In a future version, integer keys will always be treated as labels (consistent with DataFrame behavior). To access a value by position, use `ser.iloc[pos]`\n",
      "  name = int(data_row[i])\n",
      "C:\\Users\\flori\\anaconda3\\envs\\torch_test\\Lib\\site-packages\\lime\\discretize.py:110: FutureWarning: Series.__getitem__ treating keys as positions is deprecated. In a future version, integer keys will always be treated as labels (consistent with DataFrame behavior). To access a value by position, use `ser.iloc[pos]`\n",
      "  ret[feature] = int(self.lambdas[feature](ret[feature]))\n",
      "C:\\Users\\flori\\anaconda3\\envs\\torch_test\\Lib\\site-packages\\lime\\discretize.py:110: FutureWarning: Series.__setitem__ treating keys as positions is deprecated. In a future version, integer keys will always be treated as labels (consistent with DataFrame behavior). To set a value by position, use `ser.iloc[pos] = value`\n",
      "  ret[feature] = int(self.lambdas[feature](ret[feature]))\n",
      "C:\\Users\\flori\\anaconda3\\envs\\torch_test\\Lib\\site-packages\\lime\\lime_tabular.py:427: FutureWarning: Series.__getitem__ treating keys as positions is deprecated. In a future version, integer keys will always be treated as labels (consistent with DataFrame behavior). To access a value by position, use `ser.iloc[pos]`\n",
      "  discretized_instance[f])]\n"
     ]
    },
    {
     "name": "stdout",
     "output_type": "stream",
     "text": [
      "BELNR           170320\n",
      "WAERS               C1\n",
      "BUKRS              C11\n",
      "KTOSL               C1\n",
      "PRCTR              C30\n",
      "BSCHL               A1\n",
      "HKONT               B1\n",
      "DMBTR    910645.965114\n",
      "WRBTR    54452.8097799\n",
      "label          anormal\n",
      "dtype: object\n",
      "BELNR           102552\n",
      "WAERS              P37\n",
      "BUKRS              S83\n",
      "KTOSL              S23\n",
      "PRCTR              U16\n",
      "BSCHL              N35\n",
      "HKONT              C42\n",
      "DMBTR    92445516.8683\n",
      "WRBTR    59585018.6138\n",
      "label           anomal\n",
      "Name: 102552, dtype: object\n",
      "[LOG 20250308-14:41:47] collected individual reconstruction loss of: 000000/000010 transactions\n",
      "[LOG 20250308-14:41:47] collected individual reconstruction loss of: 000000/000001 transactions\n",
      "[LOG 20250308-14:41:48] collected individual reconstruction loss of: 000000/010220 transactions\n",
      "BELNR           370090\n",
      "WAERS              E00\n",
      "BUKRS              W67\n",
      "KTOSL              W79\n",
      "PRCTR              T97\n",
      "BSCHL              N82\n",
      "HKONT              J10\n",
      "DMBTR    92445516.8528\n",
      "WRBTR    59585037.0177\n",
      "label          anormal\n",
      "dtype: object\n",
      "BELNR           102552\n",
      "WAERS              P37\n",
      "BUKRS              S83\n",
      "KTOSL              S23\n",
      "PRCTR              U16\n",
      "BSCHL              N35\n",
      "HKONT              C42\n",
      "DMBTR    92445516.8683\n",
      "WRBTR    59585018.6138\n",
      "label           anomal\n",
      "Name: 102552, dtype: object\n",
      "[LOG 20250308-14:41:48] collected individual reconstruction loss of: 000000/000010 transactions\n",
      "[LOG 20250308-14:41:48] collected individual reconstruction loss of: 000000/000001 transactions\n",
      "[LOG 20250308-14:41:48] collected individual reconstruction loss of: 000000/010220 transactions\n"
     ]
    }
   ],
   "execution_count": 5
  },
  {
   "metadata": {
    "ExecuteTime": {
     "end_time": "2025-03-08T14:41:49.524602Z",
     "start_time": "2025-03-08T14:41:49.518954Z"
    }
   },
   "cell_type": "code",
   "source": [
    "print(int_gradient1)\n",
    "print(lime1)\n",
    "print(shap1)"
   ],
   "id": "a9c6516c1cf198cf",
   "outputs": [
    {
     "name": "stdout",
     "output_type": "stream",
     "text": [
      "{'PRCTR_C30': 0.00021517866116482764, 'DMBTR': 8.474603237118572e-05, 'BSCHL_A1': 8.192306995624676e-05, 'KTOSL_C1': 1.1093659850303084e-05, 'HKONT_B1': 8.59358533489285e-06, 'WRBTR': 2.6353864086559042e-06, 'KTOSL_C2': 0.0, 'PRCTR_C59': 0.0, 'PRCTR_C50': 0.0, 'PRCTR_C51': 0.0}\n",
      "{'KTOSL=C1': -0.13150554966458056, 'HKONT=B1': -0.11903189665952618, 'PRCTR=C30': -0.010802374357453355, 'WRBTR > 26316.00': -0.006880393792462258, 'BSCHL=A1': -0.004898000898220396}\n",
      "{'HKONT': -0.1065831114103397, 'KTOSL': -0.03190371848642822, 'PRCTR': 0.020698330464462494, 'BSCHL': -0.012077621159454217, 'WRBTR': 0.0004320305151244346, 'DMBTR': 0.0003376472430924147, 'WAERS': 3.7252903969725807e-10, 'BELNR': 3.7252903724351917e-10, 'BUKRS': 3.7252903560769346e-10, 'label': 3.725289798861553e-10}\n"
     ]
    }
   ],
   "execution_count": 6
  },
  {
   "metadata": {
    "ExecuteTime": {
     "end_time": "2025-03-08T14:41:49.546715Z",
     "start_time": "2025-03-08T14:41:49.542257Z"
    }
   },
   "cell_type": "code",
   "source": [
    "print(int_gradient2)\n",
    "print(lime2)\n",
    "print(shap2)"
   ],
   "id": "55fa2f6205629c4e",
   "outputs": [
    {
     "name": "stdout",
     "output_type": "stream",
     "text": [
      "{'HKONT_J10': 0.00017704584752209485, 'DMBTR': 0.00011547397298272699, 'KTOSL_W79': 0.00010005880176322535, 'BSCHL_N82': 7.09357118466869e-05, 'PRCTR_T97': 6.933695840416476e-05, 'WRBTR': 3.952176029997645e-06, 'PRCTR_C56': 0.0, 'PRCTR_C49': 0.0, 'PRCTR_C50': 0.0, 'PRCTR_C51': 0.0}\n",
      "{'KTOSL=W79': -0.017262740352853693, 'PRCTR=T97': -0.017262740352853693, 'BSCHL=N82': -0.017262740352853693, 'WRBTR > 26316.00': -0.0163941043489635, 'DMBTR > 975258.03': -8.21787952126059e-05}\n",
      "{'HKONT': 0.03389718171209099, 'PRCTR': -0.0237545349200567, 'BSCHL': -0.01950254314889509, 'KTOSL': -0.01853251801182828, 'WRBTR': -0.00019965954124927186, 'DMBTR': -8.86612758040379e-05, 'WAERS': -1.49011612198295e-09, 'BELNR': -1.4901161195292107e-09, 'label': -1.4901161173030975e-09, 'BUKRS': -1.4901161129859078e-09}\n"
     ]
    }
   ],
   "execution_count": 7
  },
  {
   "metadata": {
    "ExecuteTime": {
     "end_time": "2025-03-08T14:41:49.567662Z",
     "start_time": "2025-03-08T14:41:49.564459Z"
    }
   },
   "cell_type": "code",
   "source": "",
   "id": "5927a7bd7cff1cbb",
   "outputs": [],
   "execution_count": null
  }
 ],
 "metadata": {
  "kernelspec": {
   "display_name": "Python 3",
   "language": "python",
   "name": "python3"
  },
  "language_info": {
   "codemirror_mode": {
    "name": "ipython",
    "version": 2
   },
   "file_extension": ".py",
   "mimetype": "text/x-python",
   "name": "python",
   "nbconvert_exporter": "python",
   "pygments_lexer": "ipython2",
   "version": "2.7.6"
  }
 },
 "nbformat": 4,
 "nbformat_minor": 5
}
