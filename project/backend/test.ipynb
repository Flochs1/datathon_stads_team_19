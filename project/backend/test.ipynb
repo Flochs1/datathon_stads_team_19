{
 "cells": [
  {
   "metadata": {},
   "cell_type": "code",
   "outputs": [],
   "execution_count": null,
   "source": [
    "data_loaded = pd.read_csv('data/datathon_data.csv')\n",
    "data_transformed, label = project.backend.preprocessing.process_data(data_loaded)"
   ],
   "id": "492524cddf2e8fba"
  },
  {
   "metadata": {
    "ExecuteTime": {
     "end_time": "2025-03-08T12:34:37.662035Z",
     "start_time": "2025-03-08T12:34:37.657997Z"
    }
   },
   "cell_type": "code",
   "source": [
    "from sklearn.linear_model import LogisticRegression\n",
    "\n",
    "\n",
    "# Train Logistic Regression with class balancing\n",
    "reg = LogisticRegression(max_iter=10000, random_state=0, C=3, class_weight={0: 1, 1: 100})\n",
    "reg.fit(data_transformed, label)\n",
    "\n",
    "# Evaluate performance\n",
    "confusion_matrix(reg.predict(data_transformed), label)"
   ],
   "id": "c082518fd4a8cab3",
   "outputs": [],
   "execution_count": 2
  },
  {
   "metadata": {
    "ExecuteTime": {
     "end_time": "2025-03-08T12:34:39.137645Z",
     "start_time": "2025-03-08T12:34:37.670936Z"
    }
   },
   "cell_type": "code",
   "source": [
    "from project.backend.preprocessing.preprocessing import process_data\n",
    "import pandas as pd\n",
    "\n",
    "data_loaded = pd.read_csv('data/datathon_data.csv')\n",
    "data_transformed = process_data(data_loaded, return_label=False)"
   ],
   "id": "4ec37d0352174e56",
   "outputs": [],
   "execution_count": 3
  },
  {
   "metadata": {
    "ExecuteTime": {
     "end_time": "2025-03-08T12:34:39.276145Z",
     "start_time": "2025-03-08T12:34:39.197792Z"
    }
   },
   "cell_type": "code",
   "source": [
    "from project.backend.preprocessing.preprocessing import get_labels, process_data\n",
    "\n",
    "df = pd.Series(data)\n",
    "print(df)\n",
    "df['label'] = get_labels(process_data(df, return_label=False))\n",
    "sample_df = df\n",
    "print(sample_df)"
   ],
   "id": "3a7fedba9a1e932e",
   "outputs": [
    {
     "name": "stdout",
     "output_type": "stream",
     "text": [
      "BELNR           131910\n",
      "WAERS              O43\n",
      "BUKRS              R07\n",
      "KTOSL              N80\n",
      "PRCTR              J39\n",
      "BSCHL              T90\n",
      "HKONT              V92\n",
      "DMBTR    92445518.2981\n",
      "WRBTR    59585041.1988\n",
      "dtype: object\n",
      "[LOG 20250308-12:34:39] collected individual reconstruction loss of: 000000/000001 transactions\n",
      "BELNR           131910\n",
      "WAERS              O43\n",
      "BUKRS              R07\n",
      "KTOSL              N80\n",
      "PRCTR              J39\n",
      "BSCHL              T90\n",
      "HKONT              V92\n",
      "DMBTR    92445518.2981\n",
      "WRBTR    59585041.1988\n",
      "label           [True]\n",
      "dtype: object\n"
     ]
    }
   ],
   "execution_count": 4
  },
  {
   "cell_type": "code",
   "id": "initial_id",
   "metadata": {
    "collapsed": true,
    "ExecuteTime": {
     "end_time": "2025-03-08T12:34:39.490750Z",
     "start_time": "2025-03-08T12:34:39.290647Z"
    }
   },
   "source": [
    "from project.backend.explainable.integrated_gradients import integrated_gradients, autoencoder_model, \\\n",
    "    get_top_attributions\n",
    "\n",
    "attributions = integrated_gradients(autoencoder_model, process_data(sample_df, return_label=False), steps=50)\n",
    "top_features = pd.DataFrame(get_top_attributions(attributions, 10))\n",
    "top_features.index = data_transformed.columns[top_features.index]\n",
    "top_features.columns = ['attribution']\n",
    "{\"top_attributions\": top_features.to_dict()}"
   ],
   "outputs": [
    {
     "data": {
      "text/plain": [
       "{'top_attributions': {'attribution': {'DMBTR': 0.00011263286432949826,\n",
       "   'HKONT_V92': 9.142324415734038e-05,\n",
       "   'BSCHL_T90': 6.559950270457193e-05,\n",
       "   'WRBTR': 4.520888251136057e-05,\n",
       "   'PRCTR_J39': 1.139113101089606e-05,\n",
       "   'KTOSL_N80': 3.4597628655319568e-06,\n",
       "   'KTOSL_B83': 0.0,\n",
       "   'PRCTR_C58': 0.0,\n",
       "   'PRCTR_C49': 0.0,\n",
       "   'PRCTR_C50': 0.0}}}"
      ]
     },
     "execution_count": 5,
     "metadata": {},
     "output_type": "execute_result"
    }
   ],
   "execution_count": 5
  },
  {
   "metadata": {
    "ExecuteTime": {
     "end_time": "2025-03-08T12:34:39.527134Z",
     "start_time": "2025-03-08T12:34:39.523110Z"
    }
   },
   "cell_type": "code",
   "source": "",
   "id": "22c71fa1bf5794e7",
   "outputs": [],
   "execution_count": null
  }
 ],
 "metadata": {
  "kernelspec": {
   "display_name": "Python 3",
   "language": "python",
   "name": "python3"
  },
  "language_info": {
   "codemirror_mode": {
    "name": "ipython",
    "version": 2
   },
   "file_extension": ".py",
   "mimetype": "text/x-python",
   "name": "python",
   "nbconvert_exporter": "python",
   "pygments_lexer": "ipython2",
   "version": "2.7.6"
  }
 },
 "nbformat": 4,
 "nbformat_minor": 5
}
